{
 "cells": [
  {
   "cell_type": "markdown",
   "metadata": {},
   "source": [
    "# 1、RL简介  \n",
    "## review 两种机器学习类型 "
   ]
  },
  {
   "cell_type": "markdown",
   "metadata": {},
   "source": [
    "**预测**\n",
    "* 根据数据预测所需输出（有监督学习）\n",
    "* 生成数据实例（无监督学习）  \n",
    "\n",
    "**决策**  \n",
    "会引起环境的改变  \n",
    "* 在动态环境中采取行动（强化学习）  \n",
    "转变到新的状态  \n",
    "获得即时奖励  \n",
    "随着时间推移最大化累计奖励  \n"
   ]
  },
  {
   "cell_type": "markdown",
   "metadata": {},
   "source": [
    "### 定义  \n",
    "* 通过从交互中学习来实现目标的计算方法  \n",
    "![agent模型](.\\pic\\agent.png)\n",
    "* 三个方面：  \n",
    "1、 感知——环境   \n",
    "2、 行动——可以采取行动来改变状态、达到目标  \n",
    "3、 目标——随着时间推移最大化累计奖励  \n"
   ]
  },
  {
   "cell_type": "markdown",
   "metadata": {},
   "source": []
  }
 ],
 "metadata": {
  "kernelspec": {
   "display_name": "Python 3",
   "language": "python",
   "name": "python3"
  },
  "language_info": {
   "codemirror_mode": {
    "name": "ipython",
    "version": 3
   },
   "file_extension": ".py",
   "mimetype": "text/x-python",
   "name": "python",
   "nbconvert_exporter": "python",
   "pygments_lexer": "ipython3",
   "version": "3.8.4"
  }
 },
 "nbformat": 4,
 "nbformat_minor": 4
}
