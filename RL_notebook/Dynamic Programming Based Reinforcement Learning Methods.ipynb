{
 "cells": [
  {
   "cell_type": "markdown",
   "metadata": {},
   "source": [
    "# Dynamic Programming Based Reinforcement Learning Methods"
   ]
  },
  {
   "cell_type": "markdown",
   "metadata": {},
   "source": [
    "## Reinforcement Learning\n",
    "in reinforcement learning, the agent aims to maxmize its cumulative reward:  \n",
    "$$\\max\\sum_{t=1}^T\\mathbb{E}[\\gamma^{t-1}r(s_t,a_t)]$$\n",
    "* 采取的策略：$a_t\\sim \\pi(s_t)$\n",
    "* 下一个状态P_sa（状态转移概率）: $s_{t+1}\\sim p(s_{t+1}|s_t,a_t)$\n",
    "* 当前状态$s_t \\sim p(s)$\n",
    "From the perspective of Bellman eauation, the caculation of cumulative reward can be also formulated as:  \n",
    "$$V(s_t)=\\mathbb{E}_{a \\sim \\pi (s_t)}[r(s_t,a_t)+\\gamma V(s_{t+1})]$$  "
   ]
  },
  {
   "cell_type": "markdown",
   "metadata": {},
   "source": [
    "## Policy Iteration Learning\n",
    "Once a policy, $\\pi$,has been improved using $v_{\\pi}$to yield a better policy, $\\pi'$, we can then compute $v_{\\pi '}$ and improve it again to yield and even better $\\pi ''$. We can thus obain a sequence of monotonically improving policies and value functions\"\n",
    "$$\\pi_0\\stackrel{\\text E}{\\longrightarrow}v_{\\pi_0}\\stackrel{\\text I}{\\longrightarrow}\\pi_1\\ $$  \n",
    "where$\\stackrel{\\text E}{\\longrightarrow}$denotes a **1、policy evaluation——calculate all reward in all states**, and $\\stackrel{\\text I}{\\longrightarrow}$ denots a **2、policy improvement**. This way of finding an optimal policy is called policy iteration."
   ]
  },
  {
   "cell_type": "markdown",
   "metadata": {},
   "source": [
    "## Process of Policy Iteration Learning\n",
    "1. **Initialization**  \n",
    "$V(s)\\in \\mathbb R $ and $\\pi(s)\\in\\mathcal A(s)$ arbitrarily for all $s\\in \\mathbb S$\n",
    "2. **Policy Evaluation**  \n",
    "    Loop:\n",
    "    >$\\Delta\\leftarrow0$；**creat a mark to evaluate the accuracy the method**  \n",
    "    Loop for each $s\\in \\mathcal S$:  \n",
    "    >>$v\\leftarrow V(\\mathcal S)$  \n",
    "    $V(s)\\leftarrow\\sum_{s',r}p(s',r|s,\\pi(s)[r+\\gamma{V(s')}])$；s'是新一个状态,即计算新状态下的V和  \n",
    "    $\\Delta\\leftarrow\\max(\\Delta,|v-V(s)|)$;计算所有状态s下的最大error  \n",
    "    \n",
    "Until$\\Delta<\\theta$(a small positive number determining the accuracy of estimation)\n",
    "    \n",
    "\n"
   ]
  },
  {
   "cell_type": "markdown",
   "metadata": {},
   "source": [
    "3. Policy Imporvement\n",
    ">policy_stable$\\leftarrow$true  \n",
    "For each $s\\in S$:\n",
    ">>old_action$\\leftarrow\\pi(s)$  \n",
    "$\\pi(s)\\leftarrow argmax_a\\sum_{s',r}p(s',r|s,a)[r+\\gamma{V(s')}]$  ;**argmax操作实现PL**  \n",
    "if old_action$\\not=\\pi(s)$,then policy_stable$\\leftarrow$false  \n",
    "\n",
    "if policy_stable,then stop and return $V\\sim v_\\star$ and $\\pi\\sim\\pi_\\star$; else go to 2"
   ]
  },
  {
   "cell_type": "markdown",
   "metadata": {},
   "source": [
    "## Policy Evaluation Implementation"
   ]
  },
  {
   "cell_type": "code",
   "execution_count": 1,
   "metadata": {},
   "outputs": [
    {
     "ename": "SyntaxError",
     "evalue": "invalid syntax (<ipython-input-1-fffce35b9f40>, line 6)",
     "output_type": "error",
     "traceback": [
      "\u001b[1;36m  File \u001b[1;32m\"<ipython-input-1-fffce35b9f40>\"\u001b[1;36m, line \u001b[1;32m6\u001b[0m\n\u001b[1;33m    delta = upper_bound:\u001b[0m\n\u001b[1;37m                       ^\u001b[0m\n\u001b[1;31mSyntaxError\u001b[0m\u001b[1;31m:\u001b[0m invalid syntax\n"
     ]
    }
   ],
   "source": [
    "import numpy as np\n",
    "from copy import copy\n",
    "\n",
    "def policy_eval(env, values, policies, upper_bound):\n",
    "    print('\\n======= Policy Evaluation========')\n",
    "    delta = upper_bound\n",
    "    iteration = 0\n",
    "    \n",
    "    while delta >= upper_bound:\n",
    "        delta = 0.\n",
    "        \n",
    "        for s in env.states:\n",
    "            v = values.get(s)\n",
    "            env.set_state(s)\n",
    "            \n",
    "            action_index = policies.sample(s)\n",
    "            action = env.actions[_index]\n",
    "            \n",
    "            \n",
    "        "
   ]
  },
  {
   "cell_type": "markdown",
   "metadata": {},
   "source": [
    "## Policy Improvement Implementation"
   ]
  }
 ],
 "metadata": {
  "kernelspec": {
   "display_name": "Python 3",
   "language": "python",
   "name": "python3"
  },
  "language_info": {
   "codemirror_mode": {
    "name": "ipython",
    "version": 3
   },
   "file_extension": ".py",
   "mimetype": "text/x-python",
   "name": "python",
   "nbconvert_exporter": "python",
   "pygments_lexer": "ipython3",
   "version": "3.8.3"
  },
  "toc": {
   "base_numbering": 1,
   "nav_menu": {},
   "number_sections": true,
   "sideBar": true,
   "skip_h1_title": false,
   "title_cell": "Table of Contents",
   "title_sidebar": "Contents",
   "toc_cell": false,
   "toc_position": {
    "height": "542px",
    "left": "23px",
    "top": "105.6px",
    "width": "200px"
   },
   "toc_section_display": true,
   "toc_window_display": true
  },
  "varInspector": {
   "cols": {
    "lenName": 16,
    "lenType": 16,
    "lenVar": 40
   },
   "kernels_config": {
    "python": {
     "delete_cmd_postfix": "",
     "delete_cmd_prefix": "del ",
     "library": "var_list.py",
     "varRefreshCmd": "print(var_dic_list())"
    },
    "r": {
     "delete_cmd_postfix": ") ",
     "delete_cmd_prefix": "rm(",
     "library": "var_list.r",
     "varRefreshCmd": "cat(var_dic_list()) "
    }
   },
   "types_to_exclude": [
    "module",
    "function",
    "builtin_function_or_method",
    "instance",
    "_Feature"
   ],
   "window_display": false
  }
 },
 "nbformat": 4,
 "nbformat_minor": 4
}
